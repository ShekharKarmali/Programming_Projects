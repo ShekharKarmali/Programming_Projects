{
 "cells": [
  {
   "cell_type": "code",
   "execution_count": 8,
   "metadata": {},
   "outputs": [],
   "source": [
    " def add(arg1,arg2):\n",
    "        try:\n",
    "            print(arg1+arg2)\n",
    "        except:\n",
    "            print(\"U! Have not entered a  number\")\n",
    "        else:\n",
    "            return \"Successfully Added!\""
   ]
  },
  {
   "cell_type": "code",
   "execution_count": 12,
   "metadata": {},
   "outputs": [
    {
     "name": "stdout",
     "output_type": "stream",
     "text": [
      "U! Have not entered a  number\n"
     ]
    }
   ],
   "source": [
    "add(342,'shekhar')"
   ]
  },
  {
   "cell_type": "code",
   "execution_count": 22,
   "metadata": {},
   "outputs": [
    {
     "name": "stdout",
     "output_type": "stream",
     "text": [
      "Could not find file or read data\n"
     ]
    }
   ],
   "source": [
    "try:\n",
    "    f=open('testfile.txt','w')\n",
    "    f.read(\"test write this file\")\n",
    "except :\n",
    "    print('Could not find file or read data')\n",
    "else:\n",
    "    print('content written successfully')"
   ]
  },
  {
   "cell_type": "code",
   "execution_count": 7,
   "metadata": {},
   "outputs": [],
   "source": [
    "from colorama import Fore\n",
    "\n",
    "def askint():\n",
    "    while True:\n",
    "        try:\n",
    "            val=int (input (\" Enter your lucky integer\"))\n",
    "        except:\n",
    "            print(Fore.RED + \"you have not entered integer! Please enter integer again\")\n",
    "            continue\n",
    "        else:\n",
    "            print(Fore.GREEN + f'Wow! your lucky integer {val} is cool')\n",
    "            break\n",
    "        finally:\n",
    "            print(Fore.BLUE + \"always ready to run\")\n",
    "            "
   ]
  },
  {
   "cell_type": "code",
   "execution_count": 8,
   "metadata": {},
   "outputs": [
    {
     "name": "stdout",
     "output_type": "stream",
     "text": [
      " Enter your lucky integer%56&\n",
      "\u001b[31myou have not entered integer! Please enter integer again\n",
      "\u001b[34malways ready to run\n",
      " Enter your lucky integer&^&*^786\n",
      "\u001b[31myou have not entered integer! Please enter integer again\n",
      "\u001b[34malways ready to run\n",
      " Enter your lucky integer786\n",
      "\u001b[32mWow! your lucky integer 786 is cool\n",
      "\u001b[34malways ready to run\n"
     ]
    }
   ],
   "source": [
    "query=askint()"
   ]
  },
  {
   "cell_type": "code",
   "execution_count": 19,
   "metadata": {},
   "outputs": [
    {
     "name": "stdout",
     "output_type": "stream",
     "text": [
      "There is Error! list must contain integer\n"
     ]
    }
   ],
   "source": [
    "try:\n",
    "    for i in ['a','b','c']:\n",
    "        print(i**2)\n",
    "except:\n",
    "    print('There is Error! list must contain integer')"
   ]
  },
  {
   "cell_type": "code",
   "execution_count": 20,
   "metadata": {},
   "outputs": [],
   "source": [
    "text=\"asjdfk\""
   ]
  },
  {
   "cell_type": "code",
   "execution_count": 21,
   "metadata": {},
   "outputs": [
    {
     "data": {
      "text/plain": [
       "'Asjdfk'"
      ]
     },
     "execution_count": 21,
     "metadata": {},
     "output_type": "execute_result"
    }
   ],
   "source": [
    "text.capitalize()"
   ]
  },
  {
   "cell_type": "code",
   "execution_count": null,
   "metadata": {},
   "outputs": [],
   "source": []
  }
 ],
 "metadata": {
  "kernelspec": {
   "display_name": "Python 3",
   "language": "python",
   "name": "python3"
  },
  "language_info": {
   "codemirror_mode": {
    "name": "ipython",
    "version": 3
   },
   "file_extension": ".py",
   "mimetype": "text/x-python",
   "name": "python",
   "nbconvert_exporter": "python",
   "pygments_lexer": "ipython3",
   "version": "3.7.0"
  }
 },
 "nbformat": 4,
 "nbformat_minor": 2
}
