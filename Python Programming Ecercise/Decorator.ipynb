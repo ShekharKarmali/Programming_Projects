{
 "cells": [
  {
   "cell_type": "code",
   "execution_count": 4,
   "metadata": {},
   "outputs": [],
   "source": [
    "s=\"Global Variable\"\n",
    "\n",
    "def check_for_locals():\n",
    "    p=\"Local Variable\"\n",
    "    print(locals())"
   ]
  },
  {
   "cell_type": "code",
   "execution_count": 5,
   "metadata": {},
   "outputs": [
    {
     "name": "stdout",
     "output_type": "stream",
     "text": [
      "{'__name__': '__main__', '__doc__': 'Automatically created module for IPython interactive environment', '__package__': None, '__loader__': None, '__spec__': None, '__builtin__': <module 'builtins' (built-in)>, '__builtins__': <module 'builtins' (built-in)>, '_ih': ['', 'print(locals())', 'print(locals().keys())', \"globals()['p']\", 's=\"Global Variable\"\\n\\ndef check_for_locals():\\n    p=\"Local Variable\"\\n    print(locals())', 'print(globals())'], '_oh': {}, '_dh': ['C:\\\\Users\\\\asus\\\\Documents\\\\python_anaconda'], 'In': ['', 'print(locals())', 'print(locals().keys())', \"globals()['p']\", 's=\"Global Variable\"\\n\\ndef check_for_locals():\\n    p=\"Local Variable\"\\n    print(locals())', 'print(globals())'], 'Out': {}, 'get_ipython': <bound method InteractiveShell.get_ipython of <ipykernel.zmqshell.ZMQInteractiveShell object at 0x0000021490B045C0>>, 'exit': <IPython.core.autocall.ZMQExitAutocall object at 0x0000021491DE5898>, 'quit': <IPython.core.autocall.ZMQExitAutocall object at 0x0000021491DE5898>, '_': '', '__': '', '___': '', '_i': 's=\"Global Variable\"\\n\\ndef check_for_locals():\\n    p=\"Local Variable\"\\n    print(locals())', '_ii': \"globals()['p']\", '_iii': 'print(locals().keys())', '_i1': 'print(locals())', '_i2': 'print(locals().keys())', '_i3': \"globals()['p']\", '_i4': 's=\"Global Variable\"\\n\\ndef check_for_locals():\\n    p=\"Local Variable\"\\n    print(locals())', 's': 'Global Variable', 'check_for_locals': <function check_for_locals at 0x0000021491F78598>, '_i5': 'print(globals())'}\n"
     ]
    }
   ],
   "source": [
    "print(globals())"
   ]
  },
  {
   "cell_type": "code",
   "execution_count": 6,
   "metadata": {},
   "outputs": [
    {
     "name": "stdout",
     "output_type": "stream",
     "text": [
      "dict_keys(['__name__', '__doc__', '__package__', '__loader__', '__spec__', '__builtin__', '__builtins__', '_ih', '_oh', '_dh', 'In', 'Out', 'get_ipython', 'exit', 'quit', '_', '__', '___', '_i', '_ii', '_iii', '_i1', '_i2', '_i3', '_i4', 's', 'check_for_locals', '_i5', '_i6'])\n"
     ]
    }
   ],
   "source": [
    "print(globals().keys())"
   ]
  },
  {
   "cell_type": "code",
   "execution_count": 7,
   "metadata": {},
   "outputs": [
    {
     "name": "stdout",
     "output_type": "stream",
     "text": [
      "{'p': 'Local Variable'}\n"
     ]
    }
   ],
   "source": [
    "lkl=check_for_locals()"
   ]
  },
  {
   "cell_type": "code",
   "execution_count": 8,
   "metadata": {},
   "outputs": [
    {
     "data": {
      "text/plain": [
       "NoneType"
      ]
     },
     "execution_count": 8,
     "metadata": {},
     "output_type": "execute_result"
    }
   ],
   "source": [
    "type(lkl)"
   ]
  },
  {
   "cell_type": "code",
   "execution_count": 11,
   "metadata": {},
   "outputs": [
    {
     "data": {
      "text/plain": [
       "'Global Variable'"
      ]
     },
     "execution_count": 11,
     "metadata": {},
     "output_type": "execute_result"
    }
   ],
   "source": [
    "globals()['s']"
   ]
  },
  {
   "cell_type": "code",
   "execution_count": 12,
   "metadata": {},
   "outputs": [
    {
     "name": "stdout",
     "output_type": "stream",
     "text": [
      "dict_keys(['__name__', '__doc__', '__package__', '__loader__', '__spec__', '__builtin__', '__builtins__', '_ih', '_oh', '_dh', 'In', 'Out', 'get_ipython', 'exit', 'quit', '_', '__', '___', '_i', '_ii', '_iii', '_i1', '_i2', '_i3', '_i4', 's', 'check_for_locals', '_i5', '_i6', '_i7', 'lkl', '_i8', '_8', '_i9', '_i10', '_i11', '_11', '_i12'])\n"
     ]
    }
   ],
   "source": [
    "print(locals().keys())"
   ]
  },
  {
   "cell_type": "code",
   "execution_count": 33,
   "metadata": {},
   "outputs": [],
   "source": [
    "def hello(name='josh'):\n",
    "    print(\"Hello \"+ name)"
   ]
  },
  {
   "cell_type": "code",
   "execution_count": 37,
   "metadata": {},
   "outputs": [],
   "source": [
    "var=hello"
   ]
  },
  {
   "cell_type": "code",
   "execution_count": 39,
   "metadata": {},
   "outputs": [
    {
     "name": "stdout",
     "output_type": "stream",
     "text": [
      "Hello josh\n"
     ]
    }
   ],
   "source": [
    "var()"
   ]
  },
  {
   "cell_type": "code",
   "execution_count": 40,
   "metadata": {},
   "outputs": [],
   "source": [
    "del hello"
   ]
  },
  {
   "cell_type": "code",
   "execution_count": 41,
   "metadata": {},
   "outputs": [
    {
     "name": "stdout",
     "output_type": "stream",
     "text": [
      "Hello josh\n"
     ]
    }
   ],
   "source": [
    "var()"
   ]
  },
  {
   "cell_type": "code",
   "execution_count": 42,
   "metadata": {},
   "outputs": [],
   "source": [
    "del var"
   ]
  },
  {
   "cell_type": "code",
   "execution_count": 43,
   "metadata": {},
   "outputs": [
    {
     "ename": "NameError",
     "evalue": "name 'var' is not defined",
     "output_type": "error",
     "traceback": [
      "\u001b[1;31m---------------------------------------------------------------------------\u001b[0m",
      "\u001b[1;31mNameError\u001b[0m                                 Traceback (most recent call last)",
      "\u001b[1;32m<ipython-input-43-b7d7d398baa1>\u001b[0m in \u001b[0;36m<module>\u001b[1;34m()\u001b[0m\n\u001b[1;32m----> 1\u001b[1;33m \u001b[0mvar\u001b[0m\u001b[1;33m(\u001b[0m\u001b[1;33m)\u001b[0m\u001b[1;33m\u001b[0m\u001b[0m\n\u001b[0m",
      "\u001b[1;31mNameError\u001b[0m: name 'var' is not defined"
     ]
    }
   ],
   "source": [
    "var()"
   ]
  },
  {
   "cell_type": "code",
   "execution_count": 61,
   "metadata": {},
   "outputs": [],
   "source": [
    "def Hello(name=\"josh\"):\n",
    "    print(\"Hello! \"+name)\n",
    "    \n",
    "    def greet():\n",
    "        #print(\"\\t We are inside greet() function\")\n",
    "        return \"\\t We are inside greet() function\"\n",
    "        \n",
    "    def welcome():\n",
    "        #print(\"\\t We are inside welcome() function\")\n",
    "        return \"\\t We are inside welcome() function\"\n",
    "        \n",
    "    print(greet())\n",
    "    print(welcome())\n",
    "    print(\"Now! We are back inside the Hello() function\")\n",
    "    "
   ]
  },
  {
   "cell_type": "code",
   "execution_count": 62,
   "metadata": {},
   "outputs": [
    {
     "name": "stdout",
     "output_type": "stream",
     "text": [
      "Hello! shekhar\n",
      "\t We are inside greet() function\n",
      "\t We are inside welcome() function\n",
      "Now! We are back inside the Hello() function\n"
     ]
    }
   ],
   "source": [
    "Hello(\"shekhar\")"
   ]
  },
  {
   "cell_type": "code",
   "execution_count": 81,
   "metadata": {},
   "outputs": [],
   "source": [
    "def Hello(name=\"josh\"):\n",
    "    print(\"The function Hello() has been exxcuted\")\n",
    "    \n",
    "    def greet():\n",
    "        #print(\"\\t We are inside greet() function\")\n",
    "        return \"\\t We are inside greet() function\"\n",
    "        \n",
    "    def welcome():\n",
    "        #print(\"\\t We are inside welcome() function\")\n",
    "        return \"\\t We are inside welcome() function\"\n",
    "        \n",
    "    if name==\"josh\":\n",
    "        return greet\n",
    "    else:\n",
    "        return welcome"
   ]
  },
  {
   "cell_type": "code",
   "execution_count": 82,
   "metadata": {},
   "outputs": [
    {
     "name": "stdout",
     "output_type": "stream",
     "text": [
      "The function Hello() has been exxcuted\n"
     ]
    }
   ],
   "source": [
    "var=Hello(\"shekhar\")"
   ]
  },
  {
   "cell_type": "code",
   "execution_count": 83,
   "metadata": {},
   "outputs": [
    {
     "data": {
      "text/plain": [
       "'\\t We are inside welcome() function'"
      ]
     },
     "execution_count": 83,
     "metadata": {},
     "output_type": "execute_result"
    }
   ],
   "source": [
    "var()"
   ]
  },
  {
   "cell_type": "code",
   "execution_count": 145,
   "metadata": {},
   "outputs": [],
   "source": [
    "def hello():\n",
    "    return Hello()\n",
    "def other(func):\n",
    "    print(\"the other code goes from hear! Bro...\")\n",
    "    return func"
   ]
  },
  {
   "cell_type": "code",
   "execution_count": 146,
   "metadata": {},
   "outputs": [
    {
     "name": "stdout",
     "output_type": "stream",
     "text": [
      "The function Hello() has been exxcuted\n",
      "the other code goes from hear! Bro...\n",
      "the other code goes from hear! Bro...\n",
      "the other code goes from hear! Bro...\n",
      "the other code goes from hear! Bro...\n"
     ]
    },
    {
     "data": {
      "text/plain": [
       "<function __main__.Hello.<locals>.greet()>"
      ]
     },
     "execution_count": 146,
     "metadata": {},
     "output_type": "execute_result"
    }
   ],
   "source": [
    "other(other(other((other(hello())))))"
   ]
  },
  {
   "cell_type": "code",
   "execution_count": 147,
   "metadata": {},
   "outputs": [
    {
     "name": "stdout",
     "output_type": "stream",
     "text": [
      "the other code goes from hear! Bro...\n"
     ]
    },
    {
     "data": {
      "text/plain": [
       "<function __main__.hello()>"
      ]
     },
     "execution_count": 147,
     "metadata": {},
     "output_type": "execute_result"
    }
   ],
   "source": [
    "other(hello)"
   ]
  },
  {
   "cell_type": "code",
   "execution_count": 117,
   "metadata": {},
   "outputs": [
    {
     "data": {
      "text/plain": [
       "'\\t We are inside greet() function'"
      ]
     },
     "execution_count": 117,
     "metadata": {},
     "output_type": "execute_result"
    }
   ],
   "source": [
    "var()"
   ]
  },
  {
   "cell_type": "markdown",
   "metadata": {},
   "source": [
    "###Creating Decorator"
   ]
  },
  {
   "cell_type": "code",
   "execution_count": 186,
   "metadata": {},
   "outputs": [],
   "source": [
    "def new_decorator(func):\n",
    "    \n",
    "    def wrap_up():\n",
    "        print(\"This is executed before function\")\n",
    "        \n",
    "        func()\n",
    "        \n",
    "        print(\"That is executed after function\")\n",
    "        \n",
    "    return wrap_up\n",
    "    \n",
    "def need_decorator():\n",
    "        print(\"This function is in need of decorator\")\n",
    "        "
   ]
  },
  {
   "cell_type": "code",
   "execution_count": 187,
   "metadata": {},
   "outputs": [
    {
     "name": "stdout",
     "output_type": "stream",
     "text": [
      "This function is in need of decorator\n"
     ]
    }
   ],
   "source": [
    "need_decorator()"
   ]
  },
  {
   "cell_type": "code",
   "execution_count": 188,
   "metadata": {},
   "outputs": [],
   "source": [
    "need_decorator=new_decorator(need_decorator)"
   ]
  },
  {
   "cell_type": "code",
   "execution_count": 189,
   "metadata": {},
   "outputs": [
    {
     "name": "stdout",
     "output_type": "stream",
     "text": [
      "This is executed before function\n",
      "This function is in need of decorator\n",
      "That is executed after function\n"
     ]
    }
   ],
   "source": [
    "need_decorator()"
   ]
  },
  {
   "cell_type": "markdown",
   "metadata": {},
   "source": [
    "#Look Carefully"
   ]
  },
  {
   "cell_type": "code",
   "execution_count": 190,
   "metadata": {
    "scrolled": true
   },
   "outputs": [
    {
     "name": "stdout",
     "output_type": "stream",
     "text": [
      "This is executed before function\n",
      "This function is in need of decorator\n",
      "That is executed after function\n"
     ]
    },
    {
     "data": {
      "text/plain": [
       "<function __main__.new_decorator.<locals>.wrap_up()>"
      ]
     },
     "execution_count": 190,
     "metadata": {},
     "output_type": "execute_result"
    }
   ],
   "source": [
    "new_decorator(need_decorator())"
   ]
  },
  {
   "cell_type": "markdown",
   "metadata": {},
   "source": [
    "#*use of Decorator"
   ]
  },
  {
   "cell_type": "code",
   "execution_count": 207,
   "metadata": {},
   "outputs": [],
   "source": [
    "@new_decorator\n",
    "def func_need_decorator():\n",
    "    print(\"This Function is in need of decorator\")"
   ]
  },
  {
   "cell_type": "code",
   "execution_count": 208,
   "metadata": {},
   "outputs": [
    {
     "name": "stdout",
     "output_type": "stream",
     "text": [
      "This is executed before function\n",
      "This Function is in need of decorator\n",
      "That is executed after function\n"
     ]
    }
   ],
   "source": [
    "func_need_decorator()"
   ]
  }
 ],
 "metadata": {
  "kernelspec": {
   "display_name": "Python 3",
   "language": "python",
   "name": "python3"
  },
  "language_info": {
   "codemirror_mode": {
    "name": "ipython",
    "version": 3
   },
   "file_extension": ".py",
   "mimetype": "text/x-python",
   "name": "python",
   "nbconvert_exporter": "python",
   "pygments_lexer": "ipython3",
   "version": "3.7.0"
  }
 },
 "nbformat": 4,
 "nbformat_minor": 2
}
