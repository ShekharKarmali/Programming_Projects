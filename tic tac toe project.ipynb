{
 "cells": [
  {
   "cell_type": "code",
   "execution_count": null,
   "metadata": {},
   "outputs": [],
   "source": [
    "for i in range(5):\n",
    "    for j in range(5):\n",
    "        if i%2==0 and j%2==0:\n",
    "            print(\"|\",end=\" \")\n",
    "        print()\n",
    "        \n",
    "#         elif i%2!=0 and j%2==0:\n",
    "#             print(\"|\",end=\" \")\n",
    "#         print()\n",
    "        \n",
    "#         elif i%2==0 and j%2!=0:\n",
    "#             print(\"_\",end=\" \")\n",
    "#         print()\n",
    "        else:\n",
    "            print(\"*\")\n",
    "        print()"
   ]
  },
  {
   "cell_type": "code",
   "execution_count": null,
   "metadata": {},
   "outputs": [],
   "source": [
    "for i in range(5):\n",
    "    for j in range(5):\n",
    "        print(\"*\",end=\" \")\n",
    "    print()\n",
    "        "
   ]
  },
  {
   "cell_type": "code",
   "execution_count": null,
   "metadata": {},
   "outputs": [],
   "source": [
    "for i in range(5):\n",
    "    for j in range(5):\n",
    "        print(i,end=\" \")\n",
    "        print(j)\n",
    "# print()"
   ]
  },
  {
   "cell_type": "code",
   "execution_count": null,
   "metadata": {},
   "outputs": [],
   "source": [
    "for row in range(6):\n",
    "    for col in range(7):\n",
    "        if (row==0 and col%3!=0) or (row==1 and col%3==0) or (row-col==2) or (row+col==8):\n",
    "            print(\"*\",end=\"\")\n",
    "        else:\n",
    "            print(end=\" \")\n",
    "    print()"
   ]
  },
  {
   "cell_type": "code",
   "execution_count": null,
   "metadata": {},
   "outputs": [],
   "source": [
    "for i in range(1,6):\n",
    "    for j in range(1,6):\n",
    "        if j%2==0:\n",
    "            print(\"|\",end=\" \")\n",
    "        elif i%2==0 :\n",
    "            print(\"_\",end=\" \")\n",
    "        else:\n",
    "            print(\" \",end=\" \")\n",
    "    print()"
   ]
  },
  {
   "cell_type": "markdown",
   "metadata": {},
   "source": [
    "#Rough"
   ]
  },
  {
   "cell_type": "code",
   "execution_count": null,
   "metadata": {},
   "outputs": [],
   "source": [
    "arr=[]\n",
    "for i in range(1,6):\n",
    "    for j in range(1,6):\n",
    "        arr.append([])\n",
    "        if j%2==0:\n",
    "            arr[i][j]=\"|\"\n",
    "        elif i%2==0 :\n",
    "            arr[i][j]=\"_\"\n",
    "        else:\n",
    "            arr[i][j]=\" \""
   ]
  },
  {
   "cell_type": "code",
   "execution_count": null,
   "metadata": {
    "scrolled": true
   },
   "outputs": [],
   "source": [
    "ls1=[\" \",\" \",'|',\" \",\" \",'|',\" \",\" \"]\n",
    "ls2=['_','_','_','_','_','_','_','_']\n",
    "\n",
    "for t in range(2):  \n",
    "    for i in range(2):\n",
    "        for j in ls1:\n",
    "            print(j,end=\" \")\n",
    "        print()\n",
    "\n",
    "    for i in ls2:\n",
    "        print(i,end=\" \")\n",
    "    print()\n",
    "    \n",
    "for i in range(2):\n",
    "    for j in ls1:\n",
    "        print(j,end=\" \")\n",
    "    print()"
   ]
  },
  {
   "cell_type": "markdown",
   "metadata": {},
   "source": [
    "####Start of Tic_Tac_Game"
   ]
  },
  {
   "cell_type": "code",
   "execution_count": null,
   "metadata": {},
   "outputs": [],
   "source": [
    "# from IPython.display import clear_output\n",
    "# import time\n",
    "\n",
    "def display_board(board):\n",
    "    \n",
    "    print(board[1]+\" |\"+board[2]+\" | \"+board[3])\n",
    "    print(\"__|__|__ \")\n",
    "    print(board[4]+\" |\"+board[5]+\" | \"+board[6])\n",
    "    print(\"__|__|__ \")\n",
    "    print(board[7]+\" |\"+board[8]+\" | \"+board[9])\n",
    "    \n",
    "# time.sleep(50)\n",
    "# clear_output()"
   ]
  },
  {
   "cell_type": "code",
   "execution_count": null,
   "metadata": {},
   "outputs": [],
   "source": [
    "test_board = [' ',' ',' ',' ',' ',' ',' ',' ',' ',' ']\n",
    "display_board(test_board)\n",
    "#clear_output()"
   ]
  },
  {
   "cell_type": "code",
   "execution_count": 13,
   "metadata": {},
   "outputs": [],
   "source": [
    "def player_input():\n",
    "    \n",
    "    player1 = input(\"Player1: Do you want to be 'X' or 'O'\")\n",
    "    turn=choose_first()\n",
    "    print(f'Player{turn} will be first to go on')\n",
    "    kick=input(\"Are you ready to play? Enter Yes or No\")\n",
    "    if kick==\"Yes\":\n",
    "        pass\n",
    "    elif kick==\"No\":\n",
    "        return\n",
    "    else:\n",
    "        print(\"Enter a valid string!!!!!\")\n",
    "    return player1,turn\n",
    "    "
   ]
  },
  {
   "cell_type": "code",
   "execution_count": 14,
   "metadata": {},
   "outputs": [
    {
     "name": "stdout",
     "output_type": "stream",
     "text": [
      "Player1: Do you want to be 'X' or 'O'O\n",
      "Player2 will be first to go on\n",
      "Are you ready to play? Enter Yes or NoYes\n"
     ]
    }
   ],
   "source": [
    "x,y=player_input()"
   ]
  },
  {
   "cell_type": "code",
   "execution_count": 17,
   "metadata": {},
   "outputs": [
    {
     "data": {
      "text/plain": [
       "2"
      ]
     },
     "execution_count": 17,
     "metadata": {},
     "output_type": "execute_result"
    }
   ],
   "source": [
    "y"
   ]
  },
  {
   "cell_type": "code",
   "execution_count": null,
   "metadata": {},
   "outputs": [],
   "source": [
    "def place_marker(board, marker, position):\n",
    "    \n",
    "    board[position]=marker\n",
    "    display_board(board)"
   ]
  },
  {
   "cell_type": "code",
   "execution_count": null,
   "metadata": {},
   "outputs": [],
   "source": [
    "place_marker(test_board,'X',9)"
   ]
  },
  {
   "cell_type": "code",
   "execution_count": null,
   "metadata": {},
   "outputs": [],
   "source": [
    "def win_check(board, mark):\n",
    "    \n",
    "    return  ((board[1]==mark and board[2]==mark and board[3]==mark) or\n",
    "    (board[4] == mark and board[5] == mark and board[6] == mark) or\n",
    "    (board[7] == mark and board[8] == mark and board[9] == mark) or\n",
    "    (board[1] == mark and board[4] == mark and board[7] == mark) or\n",
    "    (board[2] == mark and board[5] == mark and board[8] == mark) or\n",
    "    (board[3] == mark and board[6] == mark and board[9] == mark) or\n",
    "    (board[1] == mark and board[5] == mark and board[9] == mark) or\n",
    "    (board[3] == mark and board[5] == mark and board[7] == mark))\n"
   ]
  },
  {
   "cell_type": "code",
   "execution_count": null,
   "metadata": {},
   "outputs": [],
   "source": [
    "win_check(test_board,'X')"
   ]
  },
  {
   "cell_type": "code",
   "execution_count": 7,
   "metadata": {},
   "outputs": [],
   "source": [
    "from random import randint \n",
    "\n",
    "def choose_first():\n",
    "    return randint(1,2)"
   ]
  },
  {
   "cell_type": "code",
   "execution_count": 8,
   "metadata": {},
   "outputs": [
    {
     "data": {
      "text/plain": [
       "2"
      ]
     },
     "execution_count": 8,
     "metadata": {},
     "output_type": "execute_result"
    }
   ],
   "source": [
    "choose_first()"
   ]
  },
  {
   "cell_type": "code",
   "execution_count": null,
   "metadata": {},
   "outputs": [],
   "source": [
    "def space_check(board, position):\n",
    "    \n",
    "    return board[position]==\" \""
   ]
  },
  {
   "cell_type": "code",
   "execution_count": null,
   "metadata": {},
   "outputs": [],
   "source": [
    "space_check(test_board,5)"
   ]
  },
  {
   "cell_type": "code",
   "execution_count": null,
   "metadata": {},
   "outputs": [],
   "source": [
    "def full_board_check(board):\n",
    "    \n",
    "    return ' ' in board"
   ]
  },
  {
   "cell_type": "code",
   "execution_count": null,
   "metadata": {},
   "outputs": [],
   "source": [
    "full_board_check(test_board)"
   ]
  },
  {
   "cell_type": "code",
   "execution_count": null,
   "metadata": {},
   "outputs": [],
   "source": [
    "def replay():\n",
    "    \n",
    "    resp=input(\"Do you want to play again? enter 'Y' for Yes or 'N' for No:\")\n",
    "    return (resp=='Y' or resp=='y')"
   ]
  },
  {
   "cell_type": "code",
   "execution_count": null,
   "metadata": {},
   "outputs": [],
   "source": [
    "replay()"
   ]
  },
  {
   "cell_type": "code",
   "execution_count": null,
   "metadata": {},
   "outputs": [],
   "source": [
    "print('Welcome to Tic Tac Toe!')\n",
    "game_on=True\n",
    "\n",
    "while True:\n",
    "    Turn=player_input()\n",
    "    test_board = [' ',' ',' ',' ',' ',' ',' ',' ',' ',' ']\n",
    "    display_board(test_board)\n",
    "    \n",
    "    \n",
    "    while game_on:\n",
    "        if Turn=='X':\n",
    "            while full_board_check(test_board):\n",
    "                \n",
    "                position = int(input('choose your next position from(1-9)'))\n",
    "                if space_check(test_board, position):\n",
    "                    place_marker(test_board,'X',position)\n",
    "                else:\n",
    "                    print(\"input 'X' in blank position\")\n",
    "                    continue\n",
    "                #display_board(test_board)\n",
    "                if win_check(test_board,'X'):\n",
    "                    print(\"Hurray! You Won...\")\n",
    "                    break\n",
    "                else:\n",
    "                    pass\n",
    "\n",
    "                position = int(input('choose your next position from(1-9)'))\n",
    "                if space_check(test_board,position):\n",
    "                    place_marker(test_board,'O',position)\n",
    "                else:\n",
    "                    print(\"input 'O' in blank position\")\n",
    "                    continue\n",
    "                #display_board(test_board)\n",
    "                if win_check(test_board,'O'):\n",
    "                    print(\"Hurray! You Won...\")\n",
    "                    break\n",
    "                else:\n",
    "                    pass\n",
    "                \n",
    "            game_on=False\n",
    "            \n",
    "        else:\n",
    "            while full_board_check(test_board):\n",
    "                \n",
    "                position = int(input('choose your next position from(1-9)'))\n",
    "                if space_check(test_board, position):\n",
    "                    place_marker(test_board,'O',position)\n",
    "                else:\n",
    "                    print(\"input 'O' in blank position\")\n",
    "                    continue\n",
    "                #display_board(test_board)\n",
    "                if win_check(test_board,'X'):\n",
    "                    print(\"Hurray! You Creck it...\")\n",
    "                    break\n",
    "                else:\n",
    "                    pass\n",
    "#                 time.sleep(5)\n",
    "#                 clear_output()\n",
    "\n",
    "                position = int(input('choose your next position from(1-9)'))\n",
    "                if space_check(test_board,position):\n",
    "                    place_marker(test_board,'X',position)\n",
    "                else:\n",
    "                    print(\"input 'X' in blank position\")\n",
    "                    continue\n",
    "                #display_board(test_board)\n",
    "                if win_check(test_board,'X'):\n",
    "                    print(\"Hurray! You Creck it...\")\n",
    "                    break\n",
    "                else:\n",
    "                    pass\n",
    "#                 clear_output()\n",
    "#                 time.sleep(5)\n",
    "                game_on=False\n",
    "                \n",
    "    if not replay():\n",
    "        break"
   ]
  },
  {
   "cell_type": "code",
   "execution_count": null,
   "metadata": {},
   "outputs": [],
   "source": []
  }
 ],
 "metadata": {
  "kernelspec": {
   "display_name": "Python 3",
   "language": "python",
   "name": "python3"
  }
 },
 "nbformat": 4,
 "nbformat_minor": 2
}
